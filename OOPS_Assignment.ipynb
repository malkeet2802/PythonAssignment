{
  "nbformat": 4,
  "nbformat_minor": 0,
  "metadata": {
    "colab": {
      "name": "OOPS Assignment.ipynb",
      "provenance": [],
      "collapsed_sections": []
    },
    "kernelspec": {
      "name": "python3",
      "display_name": "Python 3"
    },
    "language_info": {
      "name": "python"
    }
  },
  "cells": [
    {
      "cell_type": "markdown",
      "source": [
        "#### **Q.1 Write a Rectangle class in Python language.**"
      ],
      "metadata": {
        "id": "wEJ99lUdxs7a"
      }
    },
    {
      "cell_type": "code",
      "execution_count": null,
      "metadata": {
        "id": "Tfk3-4wbgRe9"
      },
      "outputs": [],
      "source": [
        "class Rectangle:\n",
        "  def Length(rect):\n",
        "    rect.length=int(input('Enter length of rectangle: '))\n",
        "  def Width(rect):\n",
        "    rect.width=int(input('Enter width of rectangle: '))\n",
        "  def Area(rect):\n",
        "    rect.area=rect.width*rect.length\n",
        "  def Perimeter(rect):\n",
        "    rect.peri=2*(rect.width + rect.length)\n",
        "  def display(rect):\n",
        "    print('Rectangle having length',rect.length,'and width',rect.width,'has Area',rect.area,'and Perimeter',rect.peri)\n"
      ]
    },
    {
      "cell_type": "code",
      "source": [
        "class PP(Rectangle):\n",
        "  def Height(rect):\n",
        "    rect.height=int(input('Enter height of Parallelepipede: '))\n",
        "  def Volume(rect):\n",
        "    rect.volume=rect.area*rect.height\n",
        "    print('Volume of Parallelepipede is',rect.volume)"
      ],
      "metadata": {
        "id": "tIeoEcc27JVK"
      },
      "execution_count": null,
      "outputs": []
    },
    {
      "cell_type": "code",
      "source": [
        "r1=PP()"
      ],
      "metadata": {
        "id": "uhWku4tn0ncI"
      },
      "execution_count": null,
      "outputs": []
    },
    {
      "cell_type": "code",
      "source": [
        "r1.Length()\n",
        "r1.Width()"
      ],
      "metadata": {
        "colab": {
          "base_uri": "https://localhost:8080/"
        },
        "id": "eXvCusl00rCo",
        "outputId": "b37744dc-69d3-4166-f06c-262274269973"
      },
      "execution_count": null,
      "outputs": [
        {
          "name": "stdout",
          "output_type": "stream",
          "text": [
            "Enter length of rectangle: 10\n",
            "Enter width of rectangle: 20\n"
          ]
        }
      ]
    },
    {
      "cell_type": "code",
      "source": [
        "r1.Area()\n",
        "r1.Perimeter()\n",
        "r1.display()"
      ],
      "metadata": {
        "colab": {
          "base_uri": "https://localhost:8080/"
        },
        "id": "vsRZTfwr01rX",
        "outputId": "0e19fb3e-1201-4a67-af9a-ae132b268f00"
      },
      "execution_count": null,
      "outputs": [
        {
          "output_type": "stream",
          "name": "stdout",
          "text": [
            "Rectangle having length 10 and width 20 has Area 200 and Perimeter 60\n"
          ]
        }
      ]
    },
    {
      "cell_type": "code",
      "source": [
        "r1.Height()"
      ],
      "metadata": {
        "colab": {
          "base_uri": "https://localhost:8080/"
        },
        "id": "1Wo00fZY4YvP",
        "outputId": "5ad5f887-a74d-47bd-d475-f8e835408868"
      },
      "execution_count": null,
      "outputs": [
        {
          "name": "stdout",
          "output_type": "stream",
          "text": [
            "Enter height of Parallelepipede: 5\n"
          ]
        }
      ]
    },
    {
      "cell_type": "code",
      "source": [
        "r1.Volume()"
      ],
      "metadata": {
        "colab": {
          "base_uri": "https://localhost:8080/"
        },
        "id": "XPW5-dUy5QAo",
        "outputId": "2450be39-2c2c-47e7-d277-a8b5d4f51e0e"
      },
      "execution_count": null,
      "outputs": [
        {
          "output_type": "stream",
          "name": "stdout",
          "text": [
            "Volume of Parallelepipede is 1000\n"
          ]
        }
      ]
    },
    {
      "cell_type": "markdown",
      "source": [
        "#### **Q.2 Create a Python class Person with attributes: name and age of type string.**"
      ],
      "metadata": {
        "id": "FIXozxD_ALR9"
      }
    },
    {
      "cell_type": "code",
      "source": [
        "class Person:\n",
        "  def name(self):\n",
        "    self.name=input('Enter name: ')\n",
        "  def age(self):\n",
        "    self.age=input('Enter age: ')\n",
        "  def display(self):\n",
        "    print('Name:',self.name,' Age:',self.age)\n",
        "\n",
        "class Student(Person):\n",
        "  def sec(self):\n",
        "    self.sec=input('Enter section: ')\n",
        "  def displayStudent(self):\n",
        "    print('Student Name:',self.name,'Age:',self.age,'Section:',self.sec)"
      ],
      "metadata": {
        "id": "Hx1wElEI5Uvh"
      },
      "execution_count": null,
      "outputs": []
    },
    {
      "cell_type": "code",
      "source": [
        "p1=Person()"
      ],
      "metadata": {
        "id": "jGNOgevuJwJ8"
      },
      "execution_count": null,
      "outputs": []
    },
    {
      "cell_type": "code",
      "source": [
        "p1.name()\n",
        "p1.age()"
      ],
      "metadata": {
        "colab": {
          "base_uri": "https://localhost:8080/"
        },
        "id": "vKH3TbuJJz8E",
        "outputId": "a6498829-48a6-4d59-f177-7c613792e82f"
      },
      "execution_count": null,
      "outputs": [
        {
          "name": "stdout",
          "output_type": "stream",
          "text": [
            "Enter name: Jayraj\n",
            "Enter age: 23\n"
          ]
        }
      ]
    },
    {
      "cell_type": "code",
      "source": [
        "p1.display()"
      ],
      "metadata": {
        "colab": {
          "base_uri": "https://localhost:8080/"
        },
        "id": "qMqr0ciMJ_NE",
        "outputId": "950101d7-d97a-489a-c4ce-3e42a571fb9b"
      },
      "execution_count": null,
      "outputs": [
        {
          "output_type": "stream",
          "name": "stdout",
          "text": [
            "Name: Jayraj  Age: 23\n"
          ]
        }
      ]
    },
    {
      "cell_type": "code",
      "source": [
        "s1=Student()"
      ],
      "metadata": {
        "id": "uzh8ZLy2KGhx"
      },
      "execution_count": null,
      "outputs": []
    },
    {
      "cell_type": "code",
      "source": [
        "s1.name()\n",
        "s1.age()\n",
        "s1.sec()"
      ],
      "metadata": {
        "colab": {
          "base_uri": "https://localhost:8080/"
        },
        "id": "AF0l23i_KuqL",
        "outputId": "b066b2e5-a244-4d0b-b651-2920becc5d3d"
      },
      "execution_count": null,
      "outputs": [
        {
          "name": "stdout",
          "output_type": "stream",
          "text": [
            "Enter name: Dhiraj\n",
            "Enter age: 23\n",
            "Enter section: DBDA\n"
          ]
        }
      ]
    },
    {
      "cell_type": "code",
      "source": [
        "s1.displayStudent()"
      ],
      "metadata": {
        "colab": {
          "base_uri": "https://localhost:8080/"
        },
        "id": "xEtNmjYHK-2L",
        "outputId": "aa0e3537-6650-44e9-bb11-8564e0652e79"
      },
      "execution_count": null,
      "outputs": [
        {
          "output_type": "stream",
          "name": "stdout",
          "text": [
            "Student Name: Dhiraj Age: 23 Section: DBDA\n"
          ]
        }
      ]
    },
    {
      "cell_type": "markdown",
      "source": [
        "#### **Q.3 Create a Python class called BankAccount.**"
      ],
      "metadata": {
        "id": "dgGzj6AK41Tz"
      }
    },
    {
      "cell_type": "code",
      "source": [
        "accno=863956\n",
        "class BankAcc:\n",
        "  def __init__(self):\n",
        "    self.accountno=accno+111\n",
        "    print('your account number:',self.accountno)\n",
        "    self.name=input('Enter your name: ')\n",
        "    self.balance=float(input('Enter amount:'))\n",
        "  def deposite(self):\n",
        "    depo=float(input('Enter amount to deposite:'))\n",
        "    self.balance+=depo\n",
        "    print('Depositted:',depo,'Current balance:',self.balance)\n",
        "  def withdraw(self):\n",
        "    wd=float(input('Enter amount to withdraw:'))\n",
        "    self.balance-=wd\n",
        "    print('withdrawn amount:',wd,'Current balance:',self.balance)\n",
        "  def bankfees(self):\n",
        "    self.balance*=0.95\n",
        "  def display(self):\n",
        "    print('Account number:',self.accountno,'| Account name: ',self.name,'| Current balance:',self.balance)\n"
      ],
      "metadata": {
        "id": "9igeEmDU5APx"
      },
      "execution_count": null,
      "outputs": []
    },
    {
      "cell_type": "code",
      "source": [
        "a1=BankAcc()"
      ],
      "metadata": {
        "colab": {
          "base_uri": "https://localhost:8080/"
        },
        "id": "SmcLDDnNanFM",
        "outputId": "ace5b1c0-0ed7-4a6f-cf10-1399dee8501c"
      },
      "execution_count": null,
      "outputs": [
        {
          "name": "stdout",
          "output_type": "stream",
          "text": [
            "your account number: 864067\n",
            "Enter your name: Jayraj\n",
            "Enter amount:25460\n"
          ]
        }
      ]
    },
    {
      "cell_type": "code",
      "source": [
        "a1.deposite()"
      ],
      "metadata": {
        "colab": {
          "base_uri": "https://localhost:8080/"
        },
        "id": "X7Ms_P0ta1TM",
        "outputId": "5c5d6802-90dc-4dcf-bfbf-0cc13ce414eb"
      },
      "execution_count": null,
      "outputs": [
        {
          "output_type": "stream",
          "name": "stdout",
          "text": [
            "Enter amount to deposite:1000\n",
            "Depositted: 1000.0 Current balance: 26460.0\n"
          ]
        }
      ]
    },
    {
      "cell_type": "code",
      "source": [
        "a1.withdraw()"
      ],
      "metadata": {
        "colab": {
          "base_uri": "https://localhost:8080/"
        },
        "id": "Kn2684AQa0br",
        "outputId": "81786413-dd26-4c44-a126-166bb1dec24e"
      },
      "execution_count": null,
      "outputs": [
        {
          "output_type": "stream",
          "name": "stdout",
          "text": [
            "Enter amount to withdraw:5000\n",
            "withdrawn amount: 5000.0 Current balance: 21460.0\n"
          ]
        }
      ]
    },
    {
      "cell_type": "code",
      "source": [
        "a1.display()"
      ],
      "metadata": {
        "colab": {
          "base_uri": "https://localhost:8080/"
        },
        "id": "Nx1Xs5M9a0lq",
        "outputId": "092971c6-d803-4da4-e722-82f1eae27a89"
      },
      "execution_count": null,
      "outputs": [
        {
          "output_type": "stream",
          "name": "stdout",
          "text": [
            "Account number: 864067 | Account name:  Jayraj | Current balance: 21460.0\n"
          ]
        }
      ]
    },
    {
      "cell_type": "markdown",
      "source": [
        "#### **Q.4  Define a Book class with the following attributes: Title, Author (Full name), Price.**"
      ],
      "metadata": {
        "id": "LH666H0TLKDk"
      }
    },
    {
      "cell_type": "code",
      "source": [
        "class Book:\n",
        "  def __init__(self):\n",
        "    self.title=input('Enter book title: ')\n",
        "    self.author=input('Enter author name: ')\n",
        "    self.price=input('Enter price: ')\n",
        "  def View(self):\n",
        "    print('Title of Book:',self.title,'| Author:',self.author,'| Price: $',self.price)"
      ],
      "metadata": {
        "id": "QSUpl9zALELM"
      },
      "execution_count": null,
      "outputs": []
    },
    {
      "cell_type": "code",
      "source": [
        "b1=Book()"
      ],
      "metadata": {
        "colab": {
          "base_uri": "https://localhost:8080/"
        },
        "id": "3kWXlFjfLjiz",
        "outputId": "6fd846ee-bcd9-4778-a3dd-c6e4b14a9a4f"
      },
      "execution_count": null,
      "outputs": [
        {
          "name": "stdout",
          "output_type": "stream",
          "text": [
            "Enter book title: Harry Potter\n",
            "Enter author name: J. K. Rowling\n",
            "Enter price: 35\n"
          ]
        }
      ]
    },
    {
      "cell_type": "code",
      "source": [
        "b1.View()"
      ],
      "metadata": {
        "colab": {
          "base_uri": "https://localhost:8080/"
        },
        "id": "jsK3j--EPhuC",
        "outputId": "a3b5fb6b-905f-43b4-96b6-df8393e0837a"
      },
      "execution_count": null,
      "outputs": [
        {
          "output_type": "stream",
          "name": "stdout",
          "text": [
            "Title of Book: Harry Potter | Author: J. K. Rowling | Price: $ 35\n"
          ]
        }
      ]
    },
    {
      "cell_type": "markdown",
      "source": [
        "#### **Q.5 Create a class called TK_extended which inherits from TK class**"
      ],
      "metadata": {
        "id": "vhByVHvf5Cjz"
      }
    },
    {
      "cell_type": "code",
      "source": [
        ""
      ],
      "metadata": {
        "id": "zQ25ZLd15dvq"
      },
      "execution_count": null,
      "outputs": []
    },
    {
      "cell_type": "markdown",
      "source": [
        "#### **Q.6 Create a child class Bus that will inherit all of the variables and methods of the Vehicle class. In the vehicle class create relevant methods and variables.**"
      ],
      "metadata": {
        "id": "42NzakqD5C94"
      }
    },
    {
      "cell_type": "code",
      "source": [
        "class Vehicle:\n",
        "  def company(self):\n",
        "    self.company=input('Enter company of Vehicle: ')\n",
        "  def model(self):\n",
        "    self.model=input('Enter Vehicle Model: ')\n",
        "  def show(self):\n",
        "    print('Company:',self.company,'| Model :',self.model)\n",
        "  \n",
        "class Bus(Vehicle):\n",
        "  def seats(self,type='Bus'):\n",
        "    self.seats=input('Enter seating capacity of bus: ')\n",
        "    self.type=type\n",
        "  def showbus(self):\n",
        "    print('Company:',self.company,'| Model:',self.model,'| Vehicle Type:',self.type,'| Seating Capacity:',self.seats)  "
      ],
      "metadata": {
        "id": "GlG0IVJ55cVH"
      },
      "execution_count": null,
      "outputs": []
    },
    {
      "cell_type": "code",
      "source": [
        "bus1=Bus()"
      ],
      "metadata": {
        "id": "b7XlSdznEKTs"
      },
      "execution_count": null,
      "outputs": []
    },
    {
      "cell_type": "code",
      "source": [
        "bus1.company()\n",
        "bus1.model()\n",
        "bus1.seats()"
      ],
      "metadata": {
        "colab": {
          "base_uri": "https://localhost:8080/"
        },
        "id": "DbSNgsYdEisS",
        "outputId": "b8b49640-cc4d-4298-dfda-9a9644ab2df1"
      },
      "execution_count": null,
      "outputs": [
        {
          "name": "stdout",
          "output_type": "stream",
          "text": [
            "Enter company of Vehicle: TATA\n",
            "Enter Vehicle Model: Starbus\n",
            "Enter seating capacity of bus: 50\n"
          ]
        }
      ]
    },
    {
      "cell_type": "code",
      "source": [
        "bus1.showbus()"
      ],
      "metadata": {
        "colab": {
          "base_uri": "https://localhost:8080/"
        },
        "id": "F34lOq2cC3bF",
        "outputId": "570f41c4-f49f-47dd-89ad-cdc8aa4a425f"
      },
      "execution_count": null,
      "outputs": [
        {
          "output_type": "stream",
          "name": "stdout",
          "text": [
            "Company: TATA | Model: Starbus | Vehicle Type: Bus | Seating Capacity: 50\n"
          ]
        }
      ]
    },
    {
      "cell_type": "markdown",
      "source": [
        "#### **Q.7 Define a class attribute \"color” with a default value white. i.e., Every Vehicle should be white.**"
      ],
      "metadata": {
        "id": "xIniz6thRJW5"
      }
    },
    {
      "cell_type": "code",
      "source": [
        "class Vehicle:\n",
        "  def __init__(self,colour='White'):\n",
        "    self.company=input('Enter company of Vehicle: ')\n",
        "    self.model=input('Enter Vehicle Model: ')\n",
        "    self.colour=colour\n",
        "  def show(self):\n",
        "    print('Comany:',self.company,'| Model :',self.model,'| Colour:',self.colour)"
      ],
      "metadata": {
        "id": "_T6BwPDiP5Ti"
      },
      "execution_count": null,
      "outputs": []
    },
    {
      "cell_type": "code",
      "source": [
        "v1=Vehicle()"
      ],
      "metadata": {
        "colab": {
          "base_uri": "https://localhost:8080/"
        },
        "id": "gLb1M9wcTQ9m",
        "outputId": "0856ccec-1d28-431e-a7fe-acfa8867b821"
      },
      "execution_count": null,
      "outputs": [
        {
          "name": "stdout",
          "output_type": "stream",
          "text": [
            "Enter company of Vehicle: BMW\n",
            "Enter Vehicle Model: M3\n"
          ]
        }
      ]
    },
    {
      "cell_type": "code",
      "source": [
        "v1.show()"
      ],
      "metadata": {
        "colab": {
          "base_uri": "https://localhost:8080/"
        },
        "id": "xXZ12APWTU_5",
        "outputId": "b0c0e943-b0b1-43c2-b967-016236e5a6f7"
      },
      "execution_count": null,
      "outputs": [
        {
          "output_type": "stream",
          "name": "stdout",
          "text": [
            "Comany: BMW | Model : M3 | Colour: White\n"
          ]
        }
      ]
    }
  ]
}