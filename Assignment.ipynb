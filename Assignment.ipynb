{
  "nbformat": 4,
  "nbformat_minor": 0,
  "metadata": {
    "colab": {
      "name": "Assignment.ipynb",
      "provenance": []
    },
    "kernelspec": {
      "name": "python3",
      "display_name": "Python 3"
    },
    "language_info": {
      "name": "python"
    }
  },
  "cells": [
    {
      "cell_type": "markdown",
      "source": [
        "Exercise Question 1: Given a two list. Create a\n",
        "third list by picking an odd-index element from the first list and even index\n",
        "elements from the second.\n",
        "For\n",
        "Example:\n",
        "listOne = [3, 6, 9, 12, 15, 18, 21]\n",
        "listTwo = [4, 8, 12, 16, 20, 24, 28]\n",
        "Expected\n",
        "Output:\n",
        "Element at odd-index positions from list one\n",
        "[6, 12, 18]\n",
        "Element at even-index positions from list two\n",
        "[4, 12, 20, 28]\n",
        "Printing Final third list\n",
        "[6, 12, 18, 4, 12, 20, 28]"
      ],
      "metadata": {
        "id": "hUtqoDIw0RiW"
      }
    },
    {
      "cell_type": "code",
      "execution_count": null,
      "metadata": {
        "colab": {
          "base_uri": "https://localhost:8080/"
        },
        "id": "-_nJP-VXz_Z_",
        "outputId": "81a2bc15-50d8-4392-aa5f-6c85877916a2"
      },
      "outputs": [
        {
          "output_type": "stream",
          "name": "stdout",
          "text": [
            "Enter data in list 1:1\n",
            "Enter data in list 1:2\n",
            "Enter data in list 1:3\n",
            "Enter data in list 1:4\n",
            "Enter data in list 1:5\n",
            "Enter data in list 1:6\n",
            "Enter data in list 1:\n",
            "Enter data in list 2:1\n",
            "Enter data in list 2:2\n",
            "Enter data in list 2:3\n",
            "Enter data in list 2:4\n",
            "Enter data in list 2:5\n",
            "Enter data in list 2:6\n",
            "Enter data in list 2:\n",
            "Element at odd index in list 1 are: [2, 4, 6]\n",
            "Element at even index in list 2 are: [1, 3, 5]\n",
            "Printing Final list 3: [2, 4, 6, 1, 3, 5]\n"
          ]
        }
      ],
      "source": [
        "a=[]\n",
        "b=[]\n",
        "c=[]\n",
        "d=[]\n",
        "x=[]\n",
        "while True:\n",
        "    e=input(\"Enter data in list 1:\")\n",
        "    if e=='':\n",
        "        break\n",
        "    a.append(int(e))\n",
        "while True:\n",
        "    f=input(\"Enter data in list 2:\")\n",
        "    if f=='':\n",
        "        break\n",
        "    b.append(int(f))\n",
        "for i in range(0,len(a)):\n",
        "        if (i%2!=0):\n",
        "            c.append(a[i])\n",
        "for j in range(0,len(b)):\n",
        "        if (j%2==0):\n",
        "            d.append(b[j])\n",
        "x.extend(c)\n",
        "x.extend(d)\n",
        "print(\"Element at odd index in list 1 are:\",c)\n",
        "print(\"Element at even index in list 2 are:\",d)\n",
        "print(\"Printing Final list 3:\",x)"
      ]
    },
    {
      "cell_type": "markdown",
      "source": [
        "Given a number count the total\n",
        "number of digits in a number"
      ],
      "metadata": {
        "id": "1zTVwPdy28aa"
      }
    },
    {
      "cell_type": "code",
      "source": [
        "a=[]\n",
        "count=0\n",
        "b=[]\n",
        "while True:\n",
        "    e=input(\"Enter data:\")\n",
        "    if e=='':\n",
        "        break\n",
        "    a.append(int(e))\n",
        "for i in a:\n",
        "    count=0\n",
        "    while i>0:\n",
        "        i//=10\n",
        "        count+=1\n",
        "    b.append(count)\n",
        "print(b)"
      ],
      "metadata": {
        "colab": {
          "base_uri": "https://localhost:8080/"
        },
        "id": "qZ-VQxz00W7E",
        "outputId": "be3d48b8-10d1-4e5a-d038-1217d77c6af3"
      },
      "execution_count": null,
      "outputs": [
        {
          "output_type": "stream",
          "name": "stdout",
          "text": [
            "Enter data:123\n",
            "Enter data:12564\n",
            "Enter data:25848951\n",
            "Enter data:21\n",
            "Enter data:2\n",
            "Enter data:5555\n",
            "Enter data:\n",
            "[3, 5, 8, 2, 1, 4]\n"
          ]
        }
      ]
    },
    {
      "cell_type": "markdown",
      "source": [
        "Write a Python program to print the numbers of a\n",
        "specified list after removing even numbers from it."
      ],
      "metadata": {
        "id": "U498OOxy2_Ft"
      }
    },
    {
      "cell_type": "code",
      "source": [
        "a=[]\n",
        "b=[]\n",
        "while True:\n",
        "    e=input(\"Enter data:\")\n",
        "    if e=='':\n",
        "        break\n",
        "    a.append(int(e))\n",
        "print(a)\n",
        "for i in a:\n",
        "    if (i%2==0):\n",
        "        continue\n",
        "    b.append(i)\n",
        "print(\"List passing even numbers:\",b)"
      ],
      "metadata": {
        "colab": {
          "base_uri": "https://localhost:8080/"
        },
        "id": "G9YkSU7P1Xod",
        "outputId": "44376ed0-654c-45ae-fbba-6b546a9eb0be"
      },
      "execution_count": null,
      "outputs": [
        {
          "output_type": "stream",
          "name": "stdout",
          "text": [
            "Enter data:11\n",
            "Enter data:22\n",
            "Enter data:33\n",
            "Enter data:44\n",
            "Enter data:55\n",
            "Enter data:66\n",
            "Enter data:\n",
            "[11, 22, 33, 44, 55, 66]\n",
            "List passing even numbers: [11, 33, 55]\n"
          ]
        }
      ]
    },
    {
      "cell_type": "markdown",
      "source": [
        " Write a Python program to generate and print a list of\n",
        "first and last 5 elements where the values are square of numbers between 1 and\n",
        "30 (both included).  "
      ],
      "metadata": {
        "id": "UWHQQCzR3C-v"
      }
    },
    {
      "cell_type": "code",
      "source": [
        "a=[]\n",
        "b=[]\n",
        "c=[]\n",
        "while True:\n",
        "    e=input(\"Enter data:\")\n",
        "    if e=='':\n",
        "        break\n",
        "    a.append(int(e))\n",
        "for i in a[:5]:\n",
        "    if i**2>=1 and 30>=i**2:\n",
        "        b.append(i)\n",
        "print(\"First five element square between 1 to 30 are:\",b)\n",
        "for j in a[len(a)-5:len(a)]:\n",
        "    if j**2>=1 and 30>=j**2:\n",
        "        c.append(j)\n",
        "print(\"Last five element square between 1 to 30 are:\",c)"
      ],
      "metadata": {
        "colab": {
          "base_uri": "https://localhost:8080/"
        },
        "id": "50TC0vLL1hla",
        "outputId": "821d403b-07e0-46f1-f677-6211669bf8a8"
      },
      "execution_count": null,
      "outputs": [
        {
          "output_type": "stream",
          "name": "stdout",
          "text": [
            "Enter data:1\n",
            "Enter data:2\n",
            "Enter data:5\n",
            "Enter data:8\n",
            "Enter data:9\n",
            "Enter data:6\n",
            "Enter data:5\n",
            "Enter data:8\n",
            "Enter data:4\n",
            "Enter data:8\n",
            "Enter data:1\n",
            "Enter data:\n",
            "First five element square between 1 to 30 are: [1, 2, 5]\n",
            "Last five element square between 1 to 30 are: [5, 4, 1]\n"
          ]
        }
      ]
    },
    {
      "cell_type": "markdown",
      "source": [
        "Write a Python program to generate all permutations of a list in Python."
      ],
      "metadata": {
        "id": "hjfrQVco3Hgg"
      }
    },
    {
      "cell_type": "code",
      "source": [
        ""
      ],
      "metadata": {
        "id": "ZUu5AoW92H8q"
      },
      "execution_count": null,
      "outputs": []
    },
    {
      "cell_type": "markdown",
      "source": [
        "Write a python program to check whether two lists are\n",
        "circularly identical."
      ],
      "metadata": {
        "id": "nYYGt9_43LKT"
      }
    },
    {
      "cell_type": "code",
      "source": [
        "a=[1,1,0,0]  \n",
        "b=[0,0,1,1] \n",
        "e=0\n",
        "while True:\n",
        "    c=a[0]\n",
        "    a.pop(0)\n",
        "    a.append(c)\n",
        "    d=len(b)\n",
        "    e+=1\n",
        "    if a==b:\n",
        "        print('two lists are identical')\n",
        "        break\n",
        "    \n",
        "    if e==d:\n",
        "        print('two lists are not identical')\n",
        "        break"
      ],
      "metadata": {
        "colab": {
          "base_uri": "https://localhost:8080/"
        },
        "id": "buXQo_Ka2Q6_",
        "outputId": "aa5a6d11-9580-4afd-f86d-93adfbe50176"
      },
      "execution_count": null,
      "outputs": [
        {
          "output_type": "stream",
          "name": "stdout",
          "text": [
            "two lists are identical\n"
          ]
        }
      ]
    },
    {
      "cell_type": "markdown",
      "source": [
        "Write a Python\n",
        "program to change the position of every n-th value with the (n+1)th in a\n",
        "list. \n",
        "Sample list: [0,1,2,3,4,5]"
      ],
      "metadata": {
        "id": "oemne2Qb3OM-"
      }
    },
    {
      "cell_type": "code",
      "source": [
        "a=[]\n",
        "while True:\n",
        "    e=input(\"Enter data:\")\n",
        "    if e=='':\n",
        "        break\n",
        "    a.append(int(e))\n",
        "print(a)\n",
        "for i in range(0,len(a),2):\n",
        "    a[i],a[i+1]=a[i+1],a[i]\n",
        "print(a)"
      ],
      "metadata": {
        "colab": {
          "base_uri": "https://localhost:8080/"
        },
        "id": "p90MT4Sk2R5-",
        "outputId": "572c3fcd-efcf-4304-d936-bd90d220a5ef"
      },
      "execution_count": null,
      "outputs": [
        {
          "output_type": "stream",
          "name": "stdout",
          "text": [
            "Enter data:1\n",
            "Enter data:2\n",
            "Enter data:3\n",
            "Enter data:4\n",
            "Enter data:5\n",
            "Enter data:6\n",
            "Enter data:\n",
            "[1, 2, 3, 4, 5, 6]\n",
            "[2, 1, 4, 3, 6, 5]\n"
          ]
        }
      ]
    },
    {
      "cell_type": "markdown",
      "source": [
        "Write\n",
        "a Python program to iterate over two lists simultaneously.  "
      ],
      "metadata": {
        "id": "iY_C4udh3RNe"
      }
    },
    {
      "cell_type": "code",
      "source": [
        "z=[1,2,3,4,5]\n",
        "y=['a','b','c','d','e']\n",
        "x=0\n",
        "for i in z:\n",
        "    print(i,y[x])\n",
        "    x+=1"
      ],
      "metadata": {
        "colab": {
          "base_uri": "https://localhost:8080/"
        },
        "id": "FqIghbwE2V8j",
        "outputId": "c3fb1848-d100-4eb3-b7c2-23a19ae6318a"
      },
      "execution_count": null,
      "outputs": [
        {
          "output_type": "stream",
          "name": "stdout",
          "text": [
            "1 a\n",
            "2 b\n",
            "3 c\n",
            "4 d\n",
            "5 e\n"
          ]
        }
      ]
    },
    {
      "cell_type": "markdown",
      "source": [
        "Write a Python program to generate the combinations of n\n",
        "distinct objects taken from the elements of a given list. Original list: [1, 2, 3, 4, 5, 6, 7, 8, 9] Combinations of 2\n",
        "distinct objects: [1, 2] [1, 3] [1, 4] [1, 5] .... [7, 8] [7, 9] [8, 9]"
      ],
      "metadata": {
        "id": "AL3SXif63Ubx"
      }
    },
    {
      "cell_type": "code",
      "source": [
        "a=[1,2,3,4,5,6,7,8,9]\n",
        "ab=[]\n",
        "for i in a:\n",
        "    for j in a:\n",
        "        if i==j:\n",
        "            continue\n",
        "        else:\n",
        "            ab.append([i,j])\n",
        "print(ab)"
      ],
      "metadata": {
        "colab": {
          "base_uri": "https://localhost:8080/"
        },
        "id": "AZf_Ywcj2lvr",
        "outputId": "d794e873-308d-4e88-a6b4-8ea740c03cc1"
      },
      "execution_count": null,
      "outputs": [
        {
          "output_type": "stream",
          "name": "stdout",
          "text": [
            "[[1, 2], [1, 3], [1, 4], [1, 5], [1, 6], [1, 7], [1, 8], [1, 9], [2, 1], [2, 3], [2, 4], [2, 5], [2, 6], [2, 7], [2, 8], [2, 9], [3, 1], [3, 2], [3, 4], [3, 5], [3, 6], [3, 7], [3, 8], [3, 9], [4, 1], [4, 2], [4, 3], [4, 5], [4, 6], [4, 7], [4, 8], [4, 9], [5, 1], [5, 2], [5, 3], [5, 4], [5, 6], [5, 7], [5, 8], [5, 9], [6, 1], [6, 2], [6, 3], [6, 4], [6, 5], [6, 7], [6, 8], [6, 9], [7, 1], [7, 2], [7, 3], [7, 4], [7, 5], [7, 6], [7, 8], [7, 9], [8, 1], [8, 2], [8, 3], [8, 4], [8, 5], [8, 6], [8, 7], [8, 9], [9, 1], [9, 2], [9, 3], [9, 4], [9, 5], [9, 6], [9, 7], [9, 8]]\n"
          ]
        }
      ]
    },
    {
      "cell_type": "markdown",
      "source": [
        "Write a Python program to remove duplicates from a list of\n",
        "lists. \n",
        "\n",
        "\n",
        "\n",
        "Sample list : [[10, 20], [40], [30, 56, 25], [10, 20], [33],\n",
        "[40]]\n",
        "\n",
        "\n",
        "New List : [[10, 20], [30, 56, 25], [33], [40]]"
      ],
      "metadata": {
        "id": "JsYbxuSh3W90"
      }
    },
    {
      "cell_type": "code",
      "source": [
        "a=[[10,20],[40],[30,56,25],[10,20],[33],[40]]\n",
        "b=[]\n",
        "for i in a:\n",
        "    if i not in b:\n",
        "        b.append(i)\n",
        "print(a)\n",
        "print(sorted(b))"
      ],
      "metadata": {
        "colab": {
          "base_uri": "https://localhost:8080/"
        },
        "id": "cwCsiiqB2o3i",
        "outputId": "c1db9249-d0ed-44d1-f9b9-47f0eda36911"
      },
      "execution_count": null,
      "outputs": [
        {
          "output_type": "stream",
          "name": "stdout",
          "text": [
            "[[10, 20], [40], [30, 56, 25], [10, 20], [33], [40]]\n",
            "[[10, 20], [30, 56, 25], [33], [40]]\n"
          ]
        }
      ]
    },
    {
      "cell_type": "code",
      "source": [
        "a=[]\n",
        "b=[]\n",
        "while True:\n",
        "    e=input(\"Enter data:\")\n",
        "    if e=='':\n",
        "        break\n",
        "    a.append([e])\n",
        "for i in a:\n",
        "    if i not in b:\n",
        "        b.append(i)\n",
        "print(a)\n",
        "print(sorted(b))"
      ],
      "metadata": {
        "colab": {
          "base_uri": "https://localhost:8080/"
        },
        "id": "yW5wr0om2ulL",
        "outputId": "0dfe0d3c-f0ca-4a70-8157-66965432f883"
      },
      "execution_count": null,
      "outputs": [
        {
          "output_type": "stream",
          "name": "stdout",
          "text": [
            "Enter data:10,20\n",
            "Enter data:40\n",
            "Enter data:30,56,25\n",
            "Enter data:10,20\n",
            "Enter data:33\n",
            "Enter data:40\n",
            "Enter data:\n",
            "[['10,20'], ['40'], ['30,56,25'], ['10,20'], ['33'], ['40']]\n",
            "[['10,20'], ['30,56,25'], ['33'], ['40']]\n"
          ]
        }
      ]
    },
    {
      "cell_type": "code",
      "source": [
        ""
      ],
      "metadata": {
        "id": "Ercv-sRX2v7J"
      },
      "execution_count": null,
      "outputs": []
    }
  ]
}