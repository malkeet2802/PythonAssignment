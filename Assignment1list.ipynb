{
  "nbformat": 4,
  "nbformat_minor": 0,
  "metadata": {
    "colab": {
      "name": "Assignment1list.ipynb",
      "provenance": [],
      "collapsed_sections": []
    },
    "kernelspec": {
      "name": "python3",
      "display_name": "Python 3"
    },
    "language_info": {
      "name": "python"
    }
  },
  "cells": [
    {
      "cell_type": "markdown",
      "source": [
        "**Exercise Question 1: Given a two list. Create a\n",
        "third list by picking an odd-index element from the first list and even index\n",
        "elements from the second.**"
      ],
      "metadata": {
        "id": "B7CsQZOiP1AI"
      }
    },
    {
      "cell_type": "code",
      "execution_count": null,
      "metadata": {
        "colab": {
          "base_uri": "https://localhost:8080/"
        },
        "id": "3GCipZ63cFwn",
        "outputId": "6c29cf59-3e68-4940-9427-4ee4a001332d"
      },
      "outputs": [
        {
          "output_type": "stream",
          "name": "stdout",
          "text": [
            "[11, 13, 15, 17]\n",
            "[18, 20, 22, 24]\n",
            "[11, 13, 15, 17, 18, 20, 22, 24]\n"
          ]
        }
      ],
      "source": [
        "a=[10,11,12,13,14,15,16,17]\n",
        "d=[18,19,20,21,22,23,24,25]\n",
        "b=[]\n",
        "c=[]\n",
        "\n",
        "for i in a:\n",
        "  if i%2!=0:\n",
        "    b.append(i)\n",
        "print(b)   \n",
        "for j in d:\n",
        "  if j%2==0:\n",
        "    c.append(j)\n",
        "#e=b\n",
        "#f=e.extend(c)\n",
        "#print(b)\n",
        "print(c)\n",
        "b.extend(c)\n",
        "print(b)\n",
        "  \n"
      ]
    },
    {
      "cell_type": "code",
      "source": [
        "a=[10,11,12,13,14,15,16,17]\n",
        "d=[18,19,20,21,22,23,24,25]\n",
        "\n",
        "print(\"Odd Index List:\",a[::2])\n",
        "print(\"Even index list\",d[1::2])\n",
        "a[::2].extend(d[1::2])\n",
        "print(a[::2])"
      ],
      "metadata": {
        "colab": {
          "base_uri": "https://localhost:8080/"
        },
        "id": "n3Q14CUQnn-q",
        "outputId": "0546b58d-b85d-4b0f-afae-fc27d9e31064"
      },
      "execution_count": null,
      "outputs": [
        {
          "output_type": "stream",
          "name": "stdout",
          "text": [
            "Odd Index List: [10, 12, 14, 16]\n",
            "Even index list [19, 21, 23, 25]\n",
            "[10, 12, 14, 16]\n"
          ]
        }
      ]
    },
    {
      "cell_type": "markdown",
      "source": [
        "**Given a number count the total\n",
        "number of digits in a number**\n"
      ],
      "metadata": {
        "id": "cNNfsBEhgmZj"
      }
    },
    {
      "cell_type": "code",
      "source": [
        "a=[22,14,223,33455,22335,112234]\n",
        "count=0\n",
        "m=[]\n",
        "for i in a:\n",
        "  count=0\n",
        "  while i>0:\n",
        "    i=i//10\n",
        "    count+=1\n",
        "  m.append(count)\n",
        "print(m)\n"
      ],
      "metadata": {
        "colab": {
          "base_uri": "https://localhost:8080/"
        },
        "id": "bJoxGXEygoBW",
        "outputId": "48cd8c2e-8c17-46c6-8621-78a823402f49"
      },
      "execution_count": null,
      "outputs": [
        {
          "output_type": "stream",
          "name": "stdout",
          "text": [
            "[2, 2, 3, 5, 5, 6]\n"
          ]
        }
      ]
    },
    {
      "cell_type": "code",
      "source": [
        "a=input(\"Enter a Number\")\n",
        "print(\"Number of digits:\",len(a))"
      ],
      "metadata": {
        "colab": {
          "base_uri": "https://localhost:8080/"
        },
        "id": "bFY5clX9iZSR",
        "outputId": "fb1a1def-d998-4eab-a360-d163561984b4"
      },
      "execution_count": null,
      "outputs": [
        {
          "output_type": "stream",
          "name": "stdout",
          "text": [
            "Enter a Number256456\n",
            "Number of digits: 6\n"
          ]
        }
      ]
    },
    {
      "cell_type": "markdown",
      "source": [
        "**Write a Python program to print the numbers of a\n",
        "specified list after removing even numbers from it**"
      ],
      "metadata": {
        "id": "oGubslW3kEpY"
      }
    },
    {
      "cell_type": "code",
      "source": [
        "a=[12,25,56,49,58,88,99]\n",
        "\n",
        "for j in a:\n",
        "  if j%2!=0:\n",
        "    a.remove(j)\n",
        "    \n",
        "\n",
        "print(a)\n",
        "for i in a:\n",
        "  print(i)\n",
        "\n"
      ],
      "metadata": {
        "colab": {
          "base_uri": "https://localhost:8080/"
        },
        "id": "GtGIxeDtj9Wt",
        "outputId": "4c52a9dc-bebc-42b8-bacd-419ed2e57e46"
      },
      "execution_count": null,
      "outputs": [
        {
          "output_type": "stream",
          "name": "stdout",
          "text": [
            "[12, 56, 58, 88]\n",
            "12\n",
            "56\n",
            "58\n",
            "88\n"
          ]
        }
      ]
    },
    {
      "cell_type": "markdown",
      "source": [
        "**Write a Python program to generate and print a list of\n",
        "first and last 5 elements where the values are square of numbers between 1 and\n",
        "30 (both included).**"
      ],
      "metadata": {
        "id": "LtuTi1M6sFDB"
      }
    },
    {
      "cell_type": "code",
      "source": [
        "a=[2,5,6,4,5,8,7,2,3,1,3,8,5,9,8,7,5,6]\n",
        "b=[]\n",
        "c=[]\n",
        "#d=a[(len(a)-4):len(a)]\n",
        "for i in a[0:5]:\n",
        "  if i**2>1 and 30>i**2 :\n",
        "    b.append(i)\n",
        "print(b)\n",
        "\n",
        "for j in a[len(a)-4:len(a)]:\n",
        "  if j**2>1 and 30>j**2 :\n",
        "    c.append(i)\n",
        "print(c)\n",
        "b.extend(c)\n",
        "print(b)\n",
        "\n",
        "  "
      ],
      "metadata": {
        "colab": {
          "base_uri": "https://localhost:8080/"
        },
        "id": "_ndJlfR8lBWm",
        "outputId": "17bb54bd-4ad0-44a8-e358-244fc95abbf8"
      },
      "execution_count": null,
      "outputs": [
        {
          "output_type": "stream",
          "name": "stdout",
          "text": [
            "[2, 5, 4, 5]\n",
            "[5]\n",
            "[2, 5, 4, 5, 5]\n"
          ]
        }
      ]
    },
    {
      "cell_type": "code",
      "source": [
        "list2=[2,5,6,4,5,8,7,2,3,1,3,8,5,9,8,7,5,6]\n",
        "\n",
        "list3=set(list2)\n",
        "list3\n",
        "\n"
      ],
      "metadata": {
        "colab": {
          "base_uri": "https://localhost:8080/"
        },
        "id": "JJVuR9T2uYmC",
        "outputId": "83c78b36-6089-4327-aaa0-f7666410ec65"
      },
      "execution_count": null,
      "outputs": [
        {
          "output_type": "execute_result",
          "data": {
            "text/plain": [
              "{1, 2, 3, 4, 5, 6, 7, 8, 9}"
            ]
          },
          "metadata": {},
          "execution_count": 66
        }
      ]
    },
    {
      "cell_type": "markdown",
      "source": [
        "**Write a python program to check whether two lists are\n",
        "circularly identical.**"
      ],
      "metadata": {
        "id": "JMtEOdnGEIZa"
      }
    },
    {
      "cell_type": "code",
      "source": [
        "a=[3,4,1,2]\n",
        "b=[1,2,3,4]\n",
        "c=0\n",
        "d=0\n",
        "while True:\n",
        "  e=a[0]\n",
        "  a.pop(0)\n",
        "  a.append(e)\n",
        "  d=len(b)\n",
        "  c+=1\n",
        "  if a==b:\n",
        "    print ('identical')\n",
        "    break\n",
        "  if c==d:\n",
        "    print ('not identical')\n",
        "    break\n"
      ],
      "metadata": {
        "colab": {
          "base_uri": "https://localhost:8080/"
        },
        "id": "7Y53PJdIJ3TX",
        "outputId": "7f65339d-dac5-4feb-f7fa-e3eeb6a074d4"
      },
      "execution_count": null,
      "outputs": [
        {
          "output_type": "stream",
          "name": "stdout",
          "text": [
            "identical\n"
          ]
        }
      ]
    },
    {
      "cell_type": "code",
      "source": [
        ""
      ],
      "metadata": {
        "id": "N5dYXzUGMAyS"
      },
      "execution_count": null,
      "outputs": []
    },
    {
      "cell_type": "markdown",
      "source": [
        " **Write a Python\n",
        "program to change the position of every n-th value with the (n+1)th in a\n",
        "list.**"
      ],
      "metadata": {
        "id": "CnQnTxsGoxVY"
      }
    },
    {
      "cell_type": "code",
      "source": [
        "temp=0\n",
        "list12=[0,10,20,30,40,50]\n",
        "for i in range(0,len(list12),2):\n",
        "    \n",
        "    list12[i],list12[i+1]=list12[i+1],list12[i]\n",
        "    #list12[i+1]=list12[i]\n",
        "\n",
        "print(list12)\n",
        "\n",
        "  \n"
      ],
      "metadata": {
        "colab": {
          "base_uri": "https://localhost:8080/"
        },
        "id": "WGknuL2rozsF",
        "outputId": "161344cc-8b61-4a04-8491-d545b2845b6f"
      },
      "execution_count": null,
      "outputs": [
        {
          "output_type": "stream",
          "name": "stdout",
          "text": [
            "[10, 0, 30, 20, 50, 40]\n"
          ]
        }
      ]
    },
    {
      "cell_type": "markdown",
      "source": [
        "**Write\n",
        "a Python program to iterate over two lists simultaneously.**"
      ],
      "metadata": {
        "id": "Y57vnf6nsEQ1"
      }
    },
    {
      "cell_type": "code",
      "source": [
        "z=[1,2,3,4,5]\n",
        "y=['a','b','c','d','e']\n",
        "x=0\n",
        "for i in z:\n",
        "    print(i,y[x])\n",
        "    x+=1"
      ],
      "metadata": {
        "colab": {
          "base_uri": "https://localhost:8080/"
        },
        "id": "ScdO8WRqsHIP",
        "outputId": "38edee9d-93a9-4d93-8c89-33b2f0c0da27"
      },
      "execution_count": null,
      "outputs": [
        {
          "output_type": "stream",
          "name": "stdout",
          "text": [
            "1 a\n",
            "2 b\n",
            "3 c\n",
            "4 d\n",
            "5 e\n"
          ]
        }
      ]
    },
    {
      "cell_type": "markdown",
      "source": [
        "**Write a Python program to generate the combinations of n\n",
        "distinct objects taken from the elements of a given list. Original list: [1, 2, 3, 4, 5, 6, 7, 8, 9] Combinations of 2\n",
        "distinct objects: [1, 2] [1, 3] [1, 4] [1, 5] .... [7, 8] [7, 9] [8, 9]**"
      ],
      "metadata": {
        "id": "ILSTZo-wt3Iw"
      }
    },
    {
      "cell_type": "code",
      "source": [
        "lista=[1, 2, 3, 4, 5, 6, 7, 8, 9]\n",
        "listb=[]\n",
        "for i in lista:\n",
        "  for j in lista:\n",
        "    if i==j:\n",
        "      continue\n",
        "    else:\n",
        "      listb.append([i,j])\n",
        "    \n",
        "print(listb)"
      ],
      "metadata": {
        "colab": {
          "base_uri": "https://localhost:8080/"
        },
        "id": "DaavqkcPs1Q1",
        "outputId": "ffe93fb7-e6fb-4f77-968b-7303dcb898e9"
      },
      "execution_count": null,
      "outputs": [
        {
          "output_type": "stream",
          "name": "stdout",
          "text": [
            "[[1, 2], [1, 3], [1, 4], [1, 5], [1, 6], [1, 7], [1, 8], [1, 9], [2, 1], [2, 3], [2, 4], [2, 5], [2, 6], [2, 7], [2, 8], [2, 9], [3, 1], [3, 2], [3, 4], [3, 5], [3, 6], [3, 7], [3, 8], [3, 9], [4, 1], [4, 2], [4, 3], [4, 5], [4, 6], [4, 7], [4, 8], [4, 9], [5, 1], [5, 2], [5, 3], [5, 4], [5, 6], [5, 7], [5, 8], [5, 9], [6, 1], [6, 2], [6, 3], [6, 4], [6, 5], [6, 7], [6, 8], [6, 9], [7, 1], [7, 2], [7, 3], [7, 4], [7, 5], [7, 6], [7, 8], [7, 9], [8, 1], [8, 2], [8, 3], [8, 4], [8, 5], [8, 6], [8, 7], [8, 9], [9, 1], [9, 2], [9, 3], [9, 4], [9, 5], [9, 6], [9, 7], [9, 8]]\n"
          ]
        }
      ]
    },
    {
      "cell_type": "markdown",
      "source": [
        "**Write a Python program to remove duplicates from a list of\n",
        "lists.**"
      ],
      "metadata": {
        "id": "6y_ls8DJ09Pu"
      }
    },
    {
      "cell_type": "code",
      "source": [
        "listc=[]\n",
        "\n",
        "while True:\n",
        "  a=input(\"Enter a element\")\n",
        "  if a==\"\":\n",
        "    break\n",
        "  listc.append(a)\n",
        "listd=[]\n",
        "for i in listc:\n",
        "  if i not in listd:\n",
        "    listd.append(i)\n",
        "\n",
        "print(listc)\n",
        "print(listd)\n",
        "      "
      ],
      "metadata": {
        "colab": {
          "base_uri": "https://localhost:8080/"
        },
        "id": "KPU-d2_vuWtV",
        "outputId": "c73ed368-35dc-41ba-d623-27d99bc5bfbe"
      },
      "execution_count": null,
      "outputs": [
        {
          "output_type": "stream",
          "name": "stdout",
          "text": [
            "Enter a element56\n",
            "Enter a element58\n",
            "Enter a element56\n",
            "Enter a element96\n",
            "Enter a element75\n",
            "Enter a element75\n",
            "Enter a element58,75\n",
            "Enter a element46\n",
            "Enter a element\n",
            "['56', '58', '56', '96', '75', '75', '58,75', '46']\n",
            "['56', '58', '96', '75', '58,75', '46']\n"
          ]
        }
      ]
    },
    {
      "cell_type": "code",
      "source": [
        "54"
      ],
      "metadata": {
        "id": "4cGOIgrS24dP"
      },
      "execution_count": null,
      "outputs": []
    }
  ]
}