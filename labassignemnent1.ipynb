{
  "nbformat": 4,
  "nbformat_minor": 0,
  "metadata": {
    "colab": {
      "name": "labassignemnent1.ipynb",
      "provenance": [],
      "collapsed_sections": []
    },
    "kernelspec": {
      "name": "python3",
      "display_name": "Python 3"
    },
    "language_info": {
      "name": "python"
    }
  },
  "cells": [
    {
      "cell_type": "code",
      "execution_count": null,
      "metadata": {
        "id": "Ck964UHuYeKp"
      },
      "outputs": [],
      "source": [
        "b=[19,19,5,5,5,5,5]\n",
        "c=[19,15,15,5,3,3,5,2]\n",
        "\n",
        "def occur(x):\n",
        "  print(x)\n",
        "  if x.count(19)==2 and x.count(5)>=3:\n",
        "    return True\n",
        "  else:\n",
        "    return False"
      ]
    },
    {
      "cell_type": "code",
      "source": [
        "print(occur(b))\n",
        "occur(c)"
      ],
      "metadata": {
        "colab": {
          "base_uri": "https://localhost:8080/"
        },
        "id": "pJzOZ0JoZibz",
        "outputId": "4658930d-c735-4c3d-d4bc-bd1235b5c21a"
      },
      "execution_count": null,
      "outputs": [
        {
          "output_type": "stream",
          "name": "stdout",
          "text": [
            "[19, 19, 5, 5, 5, 5, 5]\n",
            "True\n",
            "[19, 15, 15, 5, 3, 3, 5, 2]\n"
          ]
        },
        {
          "output_type": "execute_result",
          "data": {
            "text/plain": [
              "False"
            ]
          },
          "metadata": {},
          "execution_count": 5
        }
      ]
    },
    {
      "cell_type": "code",
      "source": [
        "#list2=[19, 19, 15, 5, 5, 5, 1, 2]\n",
        "list_2=[ ] \n",
        "\n",
        "while True:\n",
        "  i=(input(\"Enter the elements: \"))\n",
        "  if i ==\"\":\n",
        "    break\n",
        "\n",
        "  else:\n",
        "    list_2.append(int(i))\n",
        "\n",
        "print(list_2)\n",
        "def check(list_2):\n",
        "  return len(list_2)==8 and b.count(list_2[4])==3\n",
        "\n",
        "print(check(list_2))\n"
      ],
      "metadata": {
        "colab": {
          "base_uri": "https://localhost:8080/"
        },
        "id": "rHYLZ9-OZoYf",
        "outputId": "d79efe44-572d-4e19-9c2c-17fab3efb185"
      },
      "execution_count": null,
      "outputs": [
        {
          "output_type": "stream",
          "name": "stdout",
          "text": [
            "Enter the elements: 22\n",
            "Enter the elements: 25\n",
            "Enter the elements: 4\n",
            "Enter the elements: 26\n",
            "Enter the elements: 25\n",
            "Enter the elements: 25\n",
            "Enter the elements: 25\n",
            "Enter the elements: 21\n",
            "Enter the elements: 22\n",
            "Enter the elements: \n",
            "[22, 25, 4, 26, 25, 25, 25, 21, 22]\n",
            "False\n"
          ]
        }
      ]
    },
    {
      "cell_type": "code",
      "source": [
        "2"
      ],
      "metadata": {
        "colab": {
          "base_uri": "https://localhost:8080/"
        },
        "id": "l-pR43GvanFD",
        "outputId": "98b86b1b-8937-4be1-ca1b-15eb5d461387"
      },
      "execution_count": null,
      "outputs": [
        {
          "output_type": "execute_result",
          "data": {
            "text/plain": [
              "2"
            ]
          },
          "metadata": {},
          "execution_count": 9
        }
      ]
    },
    {
      "cell_type": "code",
      "source": [
        "b=\"The dance, held in the school gym, ended at midnight.\"\n",
        "\n",
        "m=b.split()\n",
        "#print(m)\n",
        "for i in m:\n",
        "  for i in b:\n",
        "    if i == \",\" or i==\" \":\n",
        "      print(i)\n",
        "      "
      ],
      "metadata": {
        "id": "19OFMdrkbFS-"
      },
      "execution_count": null,
      "outputs": []
    },
    {
      "cell_type": "code",
      "source": [
        ""
      ],
      "metadata": {
        "id": "o4OHTnJnyZbu"
      },
      "execution_count": null,
      "outputs": []
    },
    {
      "cell_type": "code",
      "source": [
        "b=\"The dance, held in the school gym, ended at midnight.\"\n",
        "c=[]\n",
        "e=[]\n",
        "d=b.replace(\",\",\"\")\n",
        "e=d.split()\n",
        "\n",
        "for i in b:\n",
        "  if i==\",\" or i==\" \":\n",
        "    c.append(i)\n",
        "\n",
        "\n",
        "print(c)\n",
        "print(len(c))\n",
        "print()\n",
        "print(e+c)\n"
      ],
      "metadata": {
        "colab": {
          "base_uri": "https://localhost:8080/"
        },
        "id": "6yDr9Tb9yTds",
        "outputId": "9ecd8e4a-721f-4d6f-e4d3-f38f8531007c"
      },
      "execution_count": null,
      "outputs": [
        {
          "output_type": "stream",
          "name": "stdout",
          "text": [
            "[' ', ',', ' ', ' ', ' ', ' ', ' ', ',', ' ', ' ', ' ']\n",
            "11\n",
            "\n",
            "['The', 'dance', 'held', 'in', 'the', 'school', 'gym', 'ended', 'at', 'midnight.', ' ', ',', ' ', ' ', ' ', ' ', ' ', ',', ' ', ' ', ' ']\n"
          ]
        }
      ]
    },
    {
      "cell_type": "code",
      "source": [
        "def check(l1):\n",
        "    words = []\n",
        "    word = \"\"\n",
        "    for i in l1:\n",
        "        if i in \" ,\":\n",
        "            words += [word, i]\n",
        "            word = \"\"\n",
        "        else:\n",
        "            word += i\n",
        "    words += [word]\n",
        "    return [words[::2], words[1::2]]\n",
        "\n",
        "\n",
        "l1 = \"We are, here at , Cdac, khargar.\"\n",
        "print(\"output:\")\n",
        "print(check(l1))\n"
      ],
      "metadata": {
        "id": "TreW9GLKbehW"
      },
      "execution_count": null,
      "outputs": []
    },
    {
      "cell_type": "code",
      "source": [
        "list1=[1,2,3,4,5,6,7,8,9,10]\n",
        "l=set(list1)\n",
        "list2=[1,2,3,4,6,7,10]\n",
        "m=set(list2)\n",
        "w=l.difference(m)\n",
        "k=l-m\n",
        "print(sorted(w))\n",
        "print(sorted(k))\n",
        "\n"
      ],
      "metadata": {
        "colab": {
          "base_uri": "https://localhost:8080/"
        },
        "id": "UBbdDqcug-mZ",
        "outputId": "bad75c1a-202c-4e5e-de28-7cbfaf64aefc"
      },
      "execution_count": null,
      "outputs": [
        {
          "output_type": "stream",
          "name": "stdout",
          "text": [
            "[5, 8, 9]\n",
            "[5, 8, 9]\n"
          ]
        }
      ]
    },
    {
      "cell_type": "code",
      "source": [
        "print(w)"
      ],
      "metadata": {
        "colab": {
          "base_uri": "https://localhost:8080/"
        },
        "id": "mJS9rM7Ki9jK",
        "outputId": "addaaa62-0e85-4943-eabb-5e1f12ef612d"
      },
      "execution_count": null,
      "outputs": [
        {
          "output_type": "stream",
          "name": "stdout",
          "text": [
            "{8, 9, 5}\n"
          ]
        }
      ]
    },
    {
      "cell_type": "code",
      "source": [
        "a=[0,1,0,0,3,4,0,5,6]\n",
        "\n",
        "for i in a:\n",
        "  if i==0:\n",
        "    a.remove(0)\n",
        "    a.insert(len(a),0)\n",
        "print(a)\n",
        "  \n"
      ],
      "metadata": {
        "colab": {
          "base_uri": "https://localhost:8080/"
        },
        "id": "f-P2SCAcljYb",
        "outputId": "6be1646a-a652-4aca-e77e-6c8aca0d540c"
      },
      "execution_count": null,
      "outputs": [
        {
          "output_type": "stream",
          "name": "stdout",
          "text": [
            "[1, 3, 4, 5, 6, 0, 0, 0, 0]\n"
          ]
        }
      ]
    },
    {
      "cell_type": "code",
      "source": [
        "b=\"The dance, held in the school gym, ended at midnight.\"\n",
        "\n",
        "for i in b:\n",
        "  c=b.replace(\",\",\" \")\n",
        "  \n",
        "print(c)"
      ],
      "metadata": {
        "id": "p-4-I6HOmN9X",
        "colab": {
          "base_uri": "https://localhost:8080/"
        },
        "outputId": "8d12468c-4a4c-4a18-ad7f-bd5903812c47"
      },
      "execution_count": null,
      "outputs": [
        {
          "output_type": "stream",
          "name": "stdout",
          "text": [
            "The dance  held in the school gym  ended at midnight.\n"
          ]
        }
      ]
    },
    {
      "cell_type": "code",
      "source": [
        "a=[0,1,2,3,4,2]\n",
        "b={}\n",
        "for i in a:\n",
        "  for j in a:\n",
        "    print(i,\"-->\",j,\"-->\",i+j)\n",
        "    if i+j==4:\n",
        "      b.update({i:j})\n",
        "      \n",
        "b"
      ],
      "metadata": {
        "id": "xqDmjP6I1NBZ",
        "colab": {
          "base_uri": "https://localhost:8080/"
        },
        "outputId": "b03dc873-1e2c-4327-c627-859a28adc810"
      },
      "execution_count": null,
      "outputs": [
        {
          "output_type": "stream",
          "name": "stdout",
          "text": [
            "0 --> 0 --> 0\n",
            "0 --> 1 --> 1\n",
            "0 --> 2 --> 2\n",
            "0 --> 3 --> 3\n",
            "0 --> 4 --> 4\n",
            "0 --> 2 --> 2\n",
            "1 --> 0 --> 1\n",
            "1 --> 1 --> 2\n",
            "1 --> 2 --> 3\n",
            "1 --> 3 --> 4\n",
            "1 --> 4 --> 5\n",
            "1 --> 2 --> 3\n",
            "2 --> 0 --> 2\n",
            "2 --> 1 --> 3\n",
            "2 --> 2 --> 4\n",
            "2 --> 3 --> 5\n",
            "2 --> 4 --> 6\n",
            "2 --> 2 --> 4\n",
            "3 --> 0 --> 3\n",
            "3 --> 1 --> 4\n",
            "3 --> 2 --> 5\n",
            "3 --> 3 --> 6\n",
            "3 --> 4 --> 7\n",
            "3 --> 2 --> 5\n",
            "4 --> 0 --> 4\n",
            "4 --> 1 --> 5\n",
            "4 --> 2 --> 6\n",
            "4 --> 3 --> 7\n",
            "4 --> 4 --> 8\n",
            "4 --> 2 --> 6\n",
            "2 --> 0 --> 2\n",
            "2 --> 1 --> 3\n",
            "2 --> 2 --> 4\n",
            "2 --> 3 --> 5\n",
            "2 --> 4 --> 6\n",
            "2 --> 2 --> 4\n"
          ]
        },
        {
          "output_type": "execute_result",
          "data": {
            "text/plain": [
              "{0: 4, 1: 3, 2: 2, 3: 1, 4: 0}"
            ]
          },
          "metadata": {},
          "execution_count": 13
        }
      ]
    },
    {
      "cell_type": "code",
      "source": [
        ""
      ],
      "metadata": {
        "id": "3Afp0bswPRWD"
      },
      "execution_count": null,
      "outputs": []
    },
    {
      "cell_type": "markdown",
      "source": [
        "Given an array of N distinct element of at least size 2. A pair (a, b) in an array is defined as ‘a’ is the index of second highest element and ‘b’ is the index of highest element in the array. The task is to count all the distinct pair where a < b in all the subarrays.\n",
        "\n",
        "Examples :  \n",
        "\n",
        "Input : arr[] = { 1, 3, 2, 4 }\n",
        "Output : 3\n",
        "Explanation : \n",
        "The subarray { 1 }, { 3 }, { 2 }, { 4 } does not contain any such pair \n",
        "The subarray { 1, 3 }, { 2, 4 } contain (1, 2) as pair \n",
        "The subarray { 3, 2 } does not contain any such pair \n",
        "The subarray { 3, 2, 4 } contain (1, 3) as a pair \n",
        "The subarray { 1, 3, 2 } does not contain any such pair \n",
        "The subarray { 1, 3, 2, 4 } contain (2, 4) as a pair \n",
        "So, there are 3 distinct pairs, which are (1, 2), (1, 3) and (2, 4)."
      ],
      "metadata": {
        "id": "kc0_BktJPWdU"
      }
    },
    {
      "cell_type": "code",
      "source": [
        "a=[1,3,2,4]\n",
        "\n",
        "\n"
      ],
      "metadata": {
        "id": "BVKC0elrPeoe"
      },
      "execution_count": null,
      "outputs": []
    },
    {
      "cell_type": "code",
      "source": [
        "a=['abc','xyz','aba','1221']\n",
        "count=0\n",
        "for i in range(len(a)):\n",
        "  if len(a[i])>=2 and a[i][0]==a[i][-1]:\n",
        "    count+=1\n",
        "print(count)"
      ],
      "metadata": {
        "colab": {
          "base_uri": "https://localhost:8080/"
        },
        "id": "WFyZ-iA5SfOB",
        "outputId": "3003fac4-e26e-4829-aef1-a13d1921a8e8"
      },
      "execution_count": null,
      "outputs": [
        {
          "output_type": "stream",
          "name": "stdout",
          "text": [
            "2\n"
          ]
        }
      ]
    },
    {
      "cell_type": "code",
      "source": [
        ""
      ],
      "metadata": {
        "id": "R6VT8MQWTS3C"
      },
      "execution_count": null,
      "outputs": []
    }
  ]
}